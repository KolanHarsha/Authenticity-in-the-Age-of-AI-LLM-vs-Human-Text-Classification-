{
 "cells": [
  {
   "cell_type": "code",
   "execution_count": 1,
   "id": "a7843f6b",
   "metadata": {},
   "outputs": [],
   "source": [
    "import nltk\n",
    "from nltk.tokenize import sent_tokenize, word_tokenize\n",
    "import pandas as pd\n",
    "import numpy as np\n",
    "from matplotlib import pyplot as plt\n",
    "import seaborn as sns\n",
    "from sklearn.model_selection import train_test_split                                                                                                          \n",
    "from sklearn.metrics import confusion_matrix,accuracy_score,roc_curve, roc_auc_score  "
   ]
  },
  {
   "cell_type": "code",
   "execution_count": 2,
   "id": "15ee0641",
   "metadata": {},
   "outputs": [],
   "source": [
    "df=pd.read_csv('AI_Human.csv')"
   ]
  },
  {
   "cell_type": "code",
   "execution_count": 3,
   "id": "901d44dc",
   "metadata": {},
   "outputs": [
    {
     "data": {
      "text/html": [
       "<div>\n",
       "<style scoped>\n",
       "    .dataframe tbody tr th:only-of-type {\n",
       "        vertical-align: middle;\n",
       "    }\n",
       "\n",
       "    .dataframe tbody tr th {\n",
       "        vertical-align: top;\n",
       "    }\n",
       "\n",
       "    .dataframe thead th {\n",
       "        text-align: right;\n",
       "    }\n",
       "</style>\n",
       "<table border=\"1\" class=\"dataframe\">\n",
       "  <thead>\n",
       "    <tr style=\"text-align: right;\">\n",
       "      <th></th>\n",
       "      <th>text</th>\n",
       "      <th>generated</th>\n",
       "    </tr>\n",
       "  </thead>\n",
       "  <tbody>\n",
       "    <tr>\n",
       "      <th>0</th>\n",
       "      <td>Cars. Cars have been around since they became ...</td>\n",
       "      <td>0.0</td>\n",
       "    </tr>\n",
       "    <tr>\n",
       "      <th>1</th>\n",
       "      <td>Transportation is a large necessity in most co...</td>\n",
       "      <td>0.0</td>\n",
       "    </tr>\n",
       "    <tr>\n",
       "      <th>2</th>\n",
       "      <td>\"America's love affair with it's vehicles seem...</td>\n",
       "      <td>0.0</td>\n",
       "    </tr>\n",
       "    <tr>\n",
       "      <th>3</th>\n",
       "      <td>How often do you ride in a car? Do you drive a...</td>\n",
       "      <td>0.0</td>\n",
       "    </tr>\n",
       "    <tr>\n",
       "      <th>4</th>\n",
       "      <td>Cars are a wonderful thing. They are perhaps o...</td>\n",
       "      <td>0.0</td>\n",
       "    </tr>\n",
       "  </tbody>\n",
       "</table>\n",
       "</div>"
      ],
      "text/plain": [
       "                                                text  generated\n",
       "0  Cars. Cars have been around since they became ...        0.0\n",
       "1  Transportation is a large necessity in most co...        0.0\n",
       "2  \"America's love affair with it's vehicles seem...        0.0\n",
       "3  How often do you ride in a car? Do you drive a...        0.0\n",
       "4  Cars are a wonderful thing. They are perhaps o...        0.0"
      ]
     },
     "execution_count": 3,
     "metadata": {},
     "output_type": "execute_result"
    }
   ],
   "source": [
    "df.head()"
   ]
  },
  {
   "cell_type": "code",
   "execution_count": 36,
   "id": "a80b1419",
   "metadata": {},
   "outputs": [
    {
     "data": {
      "text/plain": [
       "Index(['text', 'generated'], dtype='object')"
      ]
     },
     "execution_count": 36,
     "metadata": {},
     "output_type": "execute_result"
    }
   ],
   "source": [
    "df.columns"
   ]
  },
  {
   "cell_type": "code",
   "execution_count": 37,
   "id": "c3d9ae45",
   "metadata": {
    "scrolled": false
   },
   "outputs": [
    {
     "data": {
      "image/png": "[encoded data removed]",
      "text/plain": [
       "<Figure size 500x400 with 1 Axes>"
      ]
     },
     "metadata": {},
     "output_type": "display_data"
    }
   ],
   "source": [
    "value_counts = df['generated'].value_counts()\n",
    "plt.figure(figsize=(5, 4))\n",
    "# Create a bar plot using Seaborn\n",
    "ax = sns.barplot(x=value_counts.index, y=value_counts.values)\n",
    "\n",
    "# Annotate each bar with its count number\n",
    "for i, count in enumerate(value_counts.values):\n",
    "    ax.text(i, count, str(count), ha='center', va='bottom')\n",
    "\n",
    "# Add labels and title\n",
    "plt.xlabel('Source')\n",
    "plt.ylabel('Counts')\n",
    "plt.title('Counts of LLM and Human generated')\n",
    "\n",
    "# Show the plot\n",
    "plt.show()"
   ]
  },
  {
   "cell_type": "code",
   "execution_count": 4,
   "id": "6e5ca2b5",
   "metadata": {},
   "outputs": [],
   "source": [
    "df1=df[df['generated']==1].head(25000)"
   ]
  },
  {
   "cell_type": "code",
   "execution_count": 5,
   "id": "88e364d7",
   "metadata": {},
   "outputs": [],
   "source": [
    "df2=df[df['generated']==0].head(25000)"
   ]
  },
  {
   "cell_type": "code",
   "execution_count": 6,
   "id": "df3de99c",
   "metadata": {},
   "outputs": [],
   "source": [
    "df3=pd.concat([df1,df2])"
   ]
  },
  {
   "cell_type": "code",
   "execution_count": 7,
   "id": "a0d1af19",
   "metadata": {},
   "outputs": [],
   "source": [
    "final_df=df3.sample(frac=1).reset_index(drop=True)"
   ]
  },
  {
   "cell_type": "code",
   "execution_count": 8,
   "id": "4544bf73",
   "metadata": {},
   "outputs": [
    {
     "data": {
      "text/html": [
       "<div>\n",
       "<style scoped>\n",
       "    .dataframe tbody tr th:only-of-type {\n",
       "        vertical-align: middle;\n",
       "    }\n",
       "\n",
       "    .dataframe tbody tr th {\n",
       "        vertical-align: top;\n",
       "    }\n",
       "\n",
       "    .dataframe thead th {\n",
       "        text-align: right;\n",
       "    }\n",
       "</style>\n",
       "<table border=\"1\" class=\"dataframe\">\n",
       "  <thead>\n",
       "    <tr style=\"text-align: right;\">\n",
       "      <th></th>\n",
       "      <th>text</th>\n",
       "      <th>generated</th>\n",
       "    </tr>\n",
       "  </thead>\n",
       "  <tbody>\n",
       "    <tr>\n",
       "      <th>0</th>\n",
       "      <td>A Cowboy Who Rode the Waves\\n\\nTitle: A Cowboy...</td>\n",
       "      <td>1.0</td>\n",
       "    </tr>\n",
       "    <tr>\n",
       "      <th>1</th>\n",
       "      <td>Mostly everyone is aware of the so called \"glo...</td>\n",
       "      <td>0.0</td>\n",
       "    </tr>\n",
       "    <tr>\n",
       "      <th>2</th>\n",
       "      <td>Driverless cars, also known as autonomous veh...</td>\n",
       "      <td>1.0</td>\n",
       "    </tr>\n",
       "    <tr>\n",
       "      <th>3</th>\n",
       "      <td>When people ask for advice they usually ask fo...</td>\n",
       "      <td>0.0</td>\n",
       "    </tr>\n",
       "    <tr>\n",
       "      <th>4</th>\n",
       "      <td>The history of mathematics is filled with inte...</td>\n",
       "      <td>1.0</td>\n",
       "    </tr>\n",
       "  </tbody>\n",
       "</table>\n",
       "</div>"
      ],
      "text/plain": [
       "                                                text  generated\n",
       "0  A Cowboy Who Rode the Waves\\n\\nTitle: A Cowboy...        1.0\n",
       "1  Mostly everyone is aware of the so called \"glo...        0.0\n",
       "2   Driverless cars, also known as autonomous veh...        1.0\n",
       "3  When people ask for advice they usually ask fo...        0.0\n",
       "4  The history of mathematics is filled with inte...        1.0"
      ]
     },
     "execution_count": 8,
     "metadata": {},
     "output_type": "execute_result"
    }
   ],
   "source": [
    "final_df.head()"
   ]
  },
  {
   "cell_type": "code",
   "execution_count": 9,
   "id": "82a8a622",
   "metadata": {},
   "outputs": [],
   "source": [
    "final_df['word_tokens']=final_df['text'].apply(word_tokenize)"
   ]
  },
  {
   "cell_type": "code",
   "execution_count": 10,
   "id": "8089d7a4",
   "metadata": {},
   "outputs": [
    {
     "data": {
      "text/html": [
       "<div>\n",
       "<style scoped>\n",
       "    .dataframe tbody tr th:only-of-type {\n",
       "        vertical-align: middle;\n",
       "    }\n",
       "\n",
       "    .dataframe tbody tr th {\n",
       "        vertical-align: top;\n",
       "    }\n",
       "\n",
       "    .dataframe thead th {\n",
       "        text-align: right;\n",
       "    }\n",
       "</style>\n",
       "<table border=\"1\" class=\"dataframe\">\n",
       "  <thead>\n",
       "    <tr style=\"text-align: right;\">\n",
       "      <th></th>\n",
       "      <th>text</th>\n",
       "      <th>generated</th>\n",
       "      <th>word_tokens</th>\n",
       "    </tr>\n",
       "  </thead>\n",
       "  <tbody>\n",
       "    <tr>\n",
       "      <th>0</th>\n",
       "      <td>A Cowboy Who Rode the Waves\\n\\nTitle: A Cowboy...</td>\n",
       "      <td>1.0</td>\n",
       "      <td>[A, Cowboy, Who, Rode, the, Waves, Title, :, A...</td>\n",
       "    </tr>\n",
       "    <tr>\n",
       "      <th>1</th>\n",
       "      <td>Mostly everyone is aware of the so called \"glo...</td>\n",
       "      <td>0.0</td>\n",
       "      <td>[Mostly, everyone, is, aware, of, the, so, cal...</td>\n",
       "    </tr>\n",
       "    <tr>\n",
       "      <th>2</th>\n",
       "      <td>Driverless cars, also known as autonomous veh...</td>\n",
       "      <td>1.0</td>\n",
       "      <td>[Driverless, cars, ,, also, known, as, autonom...</td>\n",
       "    </tr>\n",
       "    <tr>\n",
       "      <th>3</th>\n",
       "      <td>When people ask for advice they usually ask fo...</td>\n",
       "      <td>0.0</td>\n",
       "      <td>[When, people, ask, for, advice, they, usually...</td>\n",
       "    </tr>\n",
       "    <tr>\n",
       "      <th>4</th>\n",
       "      <td>The history of mathematics is filled with inte...</td>\n",
       "      <td>1.0</td>\n",
       "      <td>[The, history, of, mathematics, is, filled, wi...</td>\n",
       "    </tr>\n",
       "  </tbody>\n",
       "</table>\n",
       "</div>"
      ],
      "text/plain": [
       "                                                text  generated  \\\n",
       "0  A Cowboy Who Rode the Waves\\n\\nTitle: A Cowboy...        1.0   \n",
       "1  Mostly everyone is aware of the so called \"glo...        0.0   \n",
       "2   Driverless cars, also known as autonomous veh...        1.0   \n",
       "3  When people ask for advice they usually ask fo...        0.0   \n",
       "4  The history of mathematics is filled with inte...        1.0   \n",
       "\n",
       "                                         word_tokens  \n",
       "0  [A, Cowboy, Who, Rode, the, Waves, Title, :, A...  \n",
       "1  [Mostly, everyone, is, aware, of, the, so, cal...  \n",
       "2  [Driverless, cars, ,, also, known, as, autonom...  \n",
       "3  [When, people, ask, for, advice, they, usually...  \n",
       "4  [The, history, of, mathematics, is, filled, wi...  "
      ]
     },
     "execution_count": 10,
     "metadata": {},
     "output_type": "execute_result"
    }
   ],
   "source": [
    "final_df.head()"
   ]
  },
  {
   "cell_type": "code",
   "execution_count": 11,
   "id": "68e0ba0a",
   "metadata": {},
   "outputs": [],
   "source": [
    "from nltk.corpus import stopwords"
   ]
  },
  {
   "cell_type": "code",
   "execution_count": 12,
   "id": "8746490e",
   "metadata": {},
   "outputs": [],
   "source": [
    "stop_words = stopwords.words(\"english\")"
   ]
  },
  {
   "cell_type": "markdown",
   "id": "8c196582",
   "metadata": {},
   "source": [
    "Define a function to count number of stopwords in each essay"
   ]
  },
  {
   "cell_type": "code",
   "execution_count": 13,
   "id": "2e0c8c2c",
   "metadata": {},
   "outputs": [],
   "source": [
    "def stop_word_count(x):\n",
    "    if len(x)==0:\n",
    "        return 0\n",
    "    count=0\n",
    "    for word in x:\n",
    "        if word in stop_words:\n",
    "            count=count+1\n",
    "    return count/len(x)"
   ]
  },
  {
   "cell_type": "code",
   "execution_count": 14,
   "id": "79c72ef7",
   "metadata": {},
   "outputs": [],
   "source": [
    "final_df['stop_word_ratio']=final_df['word_tokens'].apply(stop_word_count)"
   ]
  },
  {
   "cell_type": "code",
   "execution_count": 15,
   "id": "076cab49",
   "metadata": {},
   "outputs": [],
   "source": [
    "final_df['Number_of_words']=final_df['text'].apply(lambda x: len(x.split()))"
   ]
  },
  {
   "cell_type": "code",
   "execution_count": 16,
   "id": "e1fc5e81",
   "metadata": {
    "scrolled": true
   },
   "outputs": [
    {
     "data": {
      "text/html": [
       "<div>\n",
       "<style scoped>\n",
       "    .dataframe tbody tr th:only-of-type {\n",
       "        vertical-align: middle;\n",
       "    }\n",
       "\n",
       "    .dataframe tbody tr th {\n",
       "        vertical-align: top;\n",
       "    }\n",
       "\n",
       "    .dataframe thead th {\n",
       "        text-align: right;\n",
       "    }\n",
       "</style>\n",
       "<table border=\"1\" class=\"dataframe\">\n",
       "  <thead>\n",
       "    <tr style=\"text-align: right;\">\n",
       "      <th></th>\n",
       "      <th>text</th>\n",
       "      <th>generated</th>\n",
       "      <th>word_tokens</th>\n",
       "      <th>stop_word_ratio</th>\n",
       "      <th>Number_of_words</th>\n",
       "    </tr>\n",
       "  </thead>\n",
       "  <tbody>\n",
       "    <tr>\n",
       "      <th>0</th>\n",
       "      <td>A Cowboy Who Rode the Waves\\n\\nTitle: A Cowboy...</td>\n",
       "      <td>1.0</td>\n",
       "      <td>[A, Cowboy, Who, Rode, the, Waves, Title, :, A...</td>\n",
       "      <td>0.335702</td>\n",
       "      <td>486</td>\n",
       "    </tr>\n",
       "    <tr>\n",
       "      <th>1</th>\n",
       "      <td>Mostly everyone is aware of the so called \"glo...</td>\n",
       "      <td>0.0</td>\n",
       "      <td>[Mostly, everyone, is, aware, of, the, so, cal...</td>\n",
       "      <td>0.429348</td>\n",
       "      <td>326</td>\n",
       "    </tr>\n",
       "    <tr>\n",
       "      <th>2</th>\n",
       "      <td>Driverless cars, also known as autonomous veh...</td>\n",
       "      <td>1.0</td>\n",
       "      <td>[Driverless, cars, ,, also, known, as, autonom...</td>\n",
       "      <td>0.397849</td>\n",
       "      <td>423</td>\n",
       "    </tr>\n",
       "    <tr>\n",
       "      <th>3</th>\n",
       "      <td>When people ask for advice they usually ask fo...</td>\n",
       "      <td>0.0</td>\n",
       "      <td>[When, people, ask, for, advice, they, usually...</td>\n",
       "      <td>0.443515</td>\n",
       "      <td>226</td>\n",
       "    </tr>\n",
       "    <tr>\n",
       "      <th>4</th>\n",
       "      <td>The history of mathematics is filled with inte...</td>\n",
       "      <td>1.0</td>\n",
       "      <td>[The, history, of, mathematics, is, filled, wi...</td>\n",
       "      <td>0.267241</td>\n",
       "      <td>321</td>\n",
       "    </tr>\n",
       "    <tr>\n",
       "      <th>5</th>\n",
       "      <td>There are a few different opinions on what the...</td>\n",
       "      <td>1.0</td>\n",
       "      <td>[There, are, a, few, different, opinions, on, ...</td>\n",
       "      <td>0.434426</td>\n",
       "      <td>222</td>\n",
       "    </tr>\n",
       "    <tr>\n",
       "      <th>6</th>\n",
       "      <td>Essay: A Cowboy Who Rode the Waves\\n\\nIt is n...</td>\n",
       "      <td>1.0</td>\n",
       "      <td>[Essay, :, A, Cowboy, Who, Rode, the, Waves, I...</td>\n",
       "      <td>0.395672</td>\n",
       "      <td>577</td>\n",
       "    </tr>\n",
       "    <tr>\n",
       "      <th>7</th>\n",
       "      <td>\\nFirst impressions hold a lot of weight in ou...</td>\n",
       "      <td>1.0</td>\n",
       "      <td>[First, impressions, hold, a, lot, of, weight,...</td>\n",
       "      <td>0.409962</td>\n",
       "      <td>239</td>\n",
       "    </tr>\n",
       "    <tr>\n",
       "      <th>8</th>\n",
       "      <td>Venus is one of our good neighbors. Spacecraft...</td>\n",
       "      <td>0.0</td>\n",
       "      <td>[Venus, is, one, of, our, good, neighbors, ., ...</td>\n",
       "      <td>0.406926</td>\n",
       "      <td>201</td>\n",
       "    </tr>\n",
       "    <tr>\n",
       "      <th>9</th>\n",
       "      <td>Few things are more captivating than the histo...</td>\n",
       "      <td>1.0</td>\n",
       "      <td>[Few, things, are, more, captivating, than, th...</td>\n",
       "      <td>0.332386</td>\n",
       "      <td>329</td>\n",
       "    </tr>\n",
       "  </tbody>\n",
       "</table>\n",
       "</div>"
      ],
      "text/plain": [
       "                                                text  generated  \\\n",
       "0  A Cowboy Who Rode the Waves\\n\\nTitle: A Cowboy...        1.0   \n",
       "1  Mostly everyone is aware of the so called \"glo...        0.0   \n",
       "2   Driverless cars, also known as autonomous veh...        1.0   \n",
       "3  When people ask for advice they usually ask fo...        0.0   \n",
       "4  The history of mathematics is filled with inte...        1.0   \n",
       "5  There are a few different opinions on what the...        1.0   \n",
       "6   Essay: A Cowboy Who Rode the Waves\\n\\nIt is n...        1.0   \n",
       "7  \\nFirst impressions hold a lot of weight in ou...        1.0   \n",
       "8  Venus is one of our good neighbors. Spacecraft...        0.0   \n",
       "9  Few things are more captivating than the histo...        1.0   \n",
       "\n",
       "                                         word_tokens  stop_word_ratio  \\\n",
       "0  [A, Cowboy, Who, Rode, the, Waves, Title, :, A...         0.335702   \n",
       "1  [Mostly, everyone, is, aware, of, the, so, cal...         0.429348   \n",
       "2  [Driverless, cars, ,, also, known, as, autonom...         0.397849   \n",
       "3  [When, people, ask, for, advice, they, usually...         0.443515   \n",
       "4  [The, history, of, mathematics, is, filled, wi...         0.267241   \n",
       "5  [There, are, a, few, different, opinions, on, ...         0.434426   \n",
       "6  [Essay, :, A, Cowboy, Who, Rode, the, Waves, I...         0.395672   \n",
       "7  [First, impressions, hold, a, lot, of, weight,...         0.409962   \n",
       "8  [Venus, is, one, of, our, good, neighbors, ., ...         0.406926   \n",
       "9  [Few, things, are, more, captivating, than, th...         0.332386   \n",
       "\n",
       "   Number_of_words  \n",
       "0              486  \n",
       "1              326  \n",
       "2              423  \n",
       "3              226  \n",
       "4              321  \n",
       "5              222  \n",
       "6              577  \n",
       "7              239  \n",
       "8              201  \n",
       "9              329  "
      ]
     },
     "execution_count": 16,
     "metadata": {},
     "output_type": "execute_result"
    }
   ],
   "source": [
    "final_df.head(10)"
   ]
  },
  {
   "cell_type": "code",
   "execution_count": 17,
   "id": "2c16d471",
   "metadata": {},
   "outputs": [
    {
     "data": {
      "text/plain": [
       "0        0.335702\n",
       "1        0.429348\n",
       "2        0.397849\n",
       "3        0.443515\n",
       "4        0.267241\n",
       "           ...   \n",
       "49995    0.367168\n",
       "49996    0.438053\n",
       "49997    0.397906\n",
       "49998    0.320248\n",
       "49999    0.300000\n",
       "Name: stop_word_ratio, Length: 50000, dtype: float64"
      ]
     },
     "execution_count": 17,
     "metadata": {},
     "output_type": "execute_result"
    }
   ],
   "source": [
    "final_df['stop_word_ratio']"
   ]
  },
  {
   "cell_type": "code",
   "execution_count": 18,
   "id": "40598853",
   "metadata": {
    "scrolled": false
   },
   "outputs": [
    {
     "data": {
      "image/png": "[encoded data removed]",
      "text/plain": [
       "<Figure size 640x480 with 1 Axes>"
      ]
     },
     "metadata": {},
     "output_type": "display_data"
    }
   ],
   "source": [
    "# Create box plot\n",
    "sns.boxplot(x=final_df['generated'], y=final_df['stop_word_ratio'])\n",
    "\n",
    "# Set labels and title\n",
    "plt.xlabel('Class')\n",
    "plt.ylabel('Stop-word ratio')\n",
    "plt.title('LLM vs Human stop-words ratio Comparision')\n",
    "\n",
    "# Show plot\n",
    "plt.show()"
   ]
  },
  {
   "cell_type": "markdown",
   "id": "3cd4b31a",
   "metadata": {},
   "source": [
    "Define a function to calculate complex word ratio"
   ]
  },
  {
   "cell_type": "code",
   "execution_count": 19,
   "id": "88ef041b",
   "metadata": {},
   "outputs": [],
   "source": [
    "import re\n",
    "\n",
    "def complex_count(x):\n",
    "    # Define a regular expression pattern to match vowels\n",
    "    vowel_pattern = re.compile(r'[aeiouAEIOU]+')\n",
    "    if len(x)==0:\n",
    "        return 0\n",
    "    # Iterate through each word and count syllables\n",
    "    y = []\n",
    "    for i in x:\n",
    "        # Handling exceptions for words ending with \"es\" or \"ed\"\n",
    "        if i.endswith((\"es\", \"ed\")):\n",
    "            syllable_count = len(re.findall(vowel_pattern, i[:-2]))\n",
    "        else:\n",
    "            syllable_count = len(re.findall(vowel_pattern, i))\n",
    "        y.append(syllable_count)\n",
    "    complex_counts = 0\n",
    "    for j in range(0, len(y)):\n",
    "        if y[j] > 2:\n",
    "            complex_counts += 1  # Accumulate syllable counts greater than 2\n",
    "        \n",
    "    return complex_counts/len(x)"
   ]
  },
  {
   "cell_type": "code",
   "execution_count": 20,
   "id": "adb4b112",
   "metadata": {},
   "outputs": [],
   "source": [
    "final_df['complex_word_ratio']=final_df['word_tokens'].apply(complex_count)"
   ]
  },
  {
   "cell_type": "code",
   "execution_count": 21,
   "id": "9652b655",
   "metadata": {
    "scrolled": true
   },
   "outputs": [
    {
     "data": {
      "text/html": [
       "<div>\n",
       "<style scoped>\n",
       "    .dataframe tbody tr th:only-of-type {\n",
       "        vertical-align: middle;\n",
       "    }\n",
       "\n",
       "    .dataframe tbody tr th {\n",
       "        vertical-align: top;\n",
       "    }\n",
       "\n",
       "    .dataframe thead th {\n",
       "        text-align: right;\n",
       "    }\n",
       "</style>\n",
       "<table border=\"1\" class=\"dataframe\">\n",
       "  <thead>\n",
       "    <tr style=\"text-align: right;\">\n",
       "      <th></th>\n",
       "      <th>text</th>\n",
       "      <th>generated</th>\n",
       "      <th>word_tokens</th>\n",
       "      <th>stop_word_ratio</th>\n",
       "      <th>Number_of_words</th>\n",
       "      <th>complex_word_ratio</th>\n",
       "    </tr>\n",
       "  </thead>\n",
       "  <tbody>\n",
       "    <tr>\n",
       "      <th>0</th>\n",
       "      <td>A Cowboy Who Rode the Waves\\n\\nTitle: A Cowboy...</td>\n",
       "      <td>1.0</td>\n",
       "      <td>[A, Cowboy, Who, Rode, the, Waves, Title, :, A...</td>\n",
       "      <td>0.335702</td>\n",
       "      <td>486</td>\n",
       "      <td>0.087034</td>\n",
       "    </tr>\n",
       "    <tr>\n",
       "      <th>1</th>\n",
       "      <td>Mostly everyone is aware of the so called \"glo...</td>\n",
       "      <td>0.0</td>\n",
       "      <td>[Mostly, everyone, is, aware, of, the, so, cal...</td>\n",
       "      <td>0.429348</td>\n",
       "      <td>326</td>\n",
       "      <td>0.062500</td>\n",
       "    </tr>\n",
       "    <tr>\n",
       "      <th>2</th>\n",
       "      <td>Driverless cars, also known as autonomous veh...</td>\n",
       "      <td>1.0</td>\n",
       "      <td>[Driverless, cars, ,, also, known, as, autonom...</td>\n",
       "      <td>0.397849</td>\n",
       "      <td>423</td>\n",
       "      <td>0.227957</td>\n",
       "    </tr>\n",
       "    <tr>\n",
       "      <th>3</th>\n",
       "      <td>When people ask for advice they usually ask fo...</td>\n",
       "      <td>0.0</td>\n",
       "      <td>[When, people, ask, for, advice, they, usually...</td>\n",
       "      <td>0.443515</td>\n",
       "      <td>226</td>\n",
       "      <td>0.125523</td>\n",
       "    </tr>\n",
       "    <tr>\n",
       "      <th>4</th>\n",
       "      <td>The history of mathematics is filled with inte...</td>\n",
       "      <td>1.0</td>\n",
       "      <td>[The, history, of, mathematics, is, filled, wi...</td>\n",
       "      <td>0.267241</td>\n",
       "      <td>321</td>\n",
       "      <td>0.252874</td>\n",
       "    </tr>\n",
       "  </tbody>\n",
       "</table>\n",
       "</div>"
      ],
      "text/plain": [
       "                                                text  generated  \\\n",
       "0  A Cowboy Who Rode the Waves\\n\\nTitle: A Cowboy...        1.0   \n",
       "1  Mostly everyone is aware of the so called \"glo...        0.0   \n",
       "2   Driverless cars, also known as autonomous veh...        1.0   \n",
       "3  When people ask for advice they usually ask fo...        0.0   \n",
       "4  The history of mathematics is filled with inte...        1.0   \n",
       "\n",
       "                                         word_tokens  stop_word_ratio  \\\n",
       "0  [A, Cowboy, Who, Rode, the, Waves, Title, :, A...         0.335702   \n",
       "1  [Mostly, everyone, is, aware, of, the, so, cal...         0.429348   \n",
       "2  [Driverless, cars, ,, also, known, as, autonom...         0.397849   \n",
       "3  [When, people, ask, for, advice, they, usually...         0.443515   \n",
       "4  [The, history, of, mathematics, is, filled, wi...         0.267241   \n",
       "\n",
       "   Number_of_words  complex_word_ratio  \n",
       "0              486            0.087034  \n",
       "1              326            0.062500  \n",
       "2              423            0.227957  \n",
       "3              226            0.125523  \n",
       "4              321            0.252874  "
      ]
     },
     "execution_count": 21,
     "metadata": {},
     "output_type": "execute_result"
    }
   ],
   "source": [
    "final_df.head()"
   ]
  },
  {
   "cell_type": "code",
   "execution_count": 22,
   "id": "73b84ef7",
   "metadata": {
    "scrolled": false
   },
   "outputs": [
    {
     "data": {
      "image/png": "[encoded data removed]",
      "text/plain": [
       "<Figure size 640x480 with 1 Axes>"
      ]
     },
     "metadata": {},
     "output_type": "display_data"
    }
   ],
   "source": [
    "# Create box plot\n",
    "sns.boxplot(x=final_df['generated'], y=final_df['complex_word_ratio'])\n",
    "\n",
    "# Set labels and title\n",
    "plt.xlabel('Class')\n",
    "plt.ylabel('complex-word ratio')\n",
    "plt.title('LLM vs Human complex-words ratio Comparision')\n",
    "\n",
    "# Show plot\n",
    "plt.show()"
   ]
  },
  {
   "cell_type": "markdown",
   "id": "cbc2a26b",
   "metadata": {},
   "source": [
    "Using AVG-TF-IDF as Features"
   ]
  },
  {
   "cell_type": "code",
   "execution_count": 23,
   "id": "e1003a4e",
   "metadata": {},
   "outputs": [],
   "source": [
    "from sklearn.feature_extraction.text import TfidfVectorizer"
   ]
  },
  {
   "cell_type": "code",
   "execution_count": 24,
   "id": "d86622b9",
   "metadata": {},
   "outputs": [],
   "source": [
    "# Initialize TfidfVectorizer\n",
    "tfidf_vectorizer = TfidfVectorizer()\n",
    "\n",
    "# Fit and transform the text data to compute TF-IDF values\n",
    "tfidf_matrix = tfidf_vectorizer.fit_transform(final_df['text'])\n",
    "\n",
    "# Calculate sum of TF-IDF values for each document\n",
    "x = tfidf_matrix.sum(axis=1)"
   ]
  },
  {
   "cell_type": "code",
   "execution_count": 25,
   "id": "3aa09b72",
   "metadata": {},
   "outputs": [],
   "source": [
    "df_tfidf= pd.DataFrame(x, columns=['tfidf'])"
   ]
  },
  {
   "cell_type": "code",
   "execution_count": 26,
   "id": "80f02c5e",
   "metadata": {},
   "outputs": [],
   "source": [
    "final_df['Avg_Tf-Idf']=df_tfidf['tfidf']/final_df['Number_of_words']"
   ]
  },
  {
   "cell_type": "code",
   "execution_count": 27,
   "id": "9b46e038",
   "metadata": {
    "scrolled": true
   },
   "outputs": [
    {
     "data": {
      "text/html": [
       "<div>\n",
       "<style scoped>\n",
       "    .dataframe tbody tr th:only-of-type {\n",
       "        vertical-align: middle;\n",
       "    }\n",
       "\n",
       "    .dataframe tbody tr th {\n",
       "        vertical-align: top;\n",
       "    }\n",
       "\n",
       "    .dataframe thead th {\n",
       "        text-align: right;\n",
       "    }\n",
       "</style>\n",
       "<table border=\"1\" class=\"dataframe\">\n",
       "  <thead>\n",
       "    <tr style=\"text-align: right;\">\n",
       "      <th></th>\n",
       "      <th>text</th>\n",
       "      <th>generated</th>\n",
       "      <th>word_tokens</th>\n",
       "      <th>stop_word_ratio</th>\n",
       "      <th>Number_of_words</th>\n",
       "      <th>complex_word_ratio</th>\n",
       "      <th>Avg_Tf-Idf</th>\n",
       "    </tr>\n",
       "  </thead>\n",
       "  <tbody>\n",
       "    <tr>\n",
       "      <th>0</th>\n",
       "      <td>A Cowboy Who Rode the Waves\\n\\nTitle: A Cowboy...</td>\n",
       "      <td>1.0</td>\n",
       "      <td>[A, Cowboy, Who, Rode, the, Waves, Title, :, A...</td>\n",
       "      <td>0.335702</td>\n",
       "      <td>486</td>\n",
       "      <td>0.087034</td>\n",
       "      <td>0.018817</td>\n",
       "    </tr>\n",
       "    <tr>\n",
       "      <th>1</th>\n",
       "      <td>Mostly everyone is aware of the so called \"glo...</td>\n",
       "      <td>0.0</td>\n",
       "      <td>[Mostly, everyone, is, aware, of, the, so, cal...</td>\n",
       "      <td>0.429348</td>\n",
       "      <td>326</td>\n",
       "      <td>0.062500</td>\n",
       "      <td>0.035812</td>\n",
       "    </tr>\n",
       "    <tr>\n",
       "      <th>2</th>\n",
       "      <td>Driverless cars, also known as autonomous veh...</td>\n",
       "      <td>1.0</td>\n",
       "      <td>[Driverless, cars, ,, also, known, as, autonom...</td>\n",
       "      <td>0.397849</td>\n",
       "      <td>423</td>\n",
       "      <td>0.227957</td>\n",
       "      <td>0.024328</td>\n",
       "    </tr>\n",
       "    <tr>\n",
       "      <th>3</th>\n",
       "      <td>When people ask for advice they usually ask fo...</td>\n",
       "      <td>0.0</td>\n",
       "      <td>[When, people, ask, for, advice, they, usually...</td>\n",
       "      <td>0.443515</td>\n",
       "      <td>226</td>\n",
       "      <td>0.125523</td>\n",
       "      <td>0.033575</td>\n",
       "    </tr>\n",
       "    <tr>\n",
       "      <th>4</th>\n",
       "      <td>The history of mathematics is filled with inte...</td>\n",
       "      <td>1.0</td>\n",
       "      <td>[The, history, of, mathematics, is, filled, wi...</td>\n",
       "      <td>0.267241</td>\n",
       "      <td>321</td>\n",
       "      <td>0.252874</td>\n",
       "      <td>0.042527</td>\n",
       "    </tr>\n",
       "  </tbody>\n",
       "</table>\n",
       "</div>"
      ],
      "text/plain": [
       "                                                text  generated  \\\n",
       "0  A Cowboy Who Rode the Waves\\n\\nTitle: A Cowboy...        1.0   \n",
       "1  Mostly everyone is aware of the so called \"glo...        0.0   \n",
       "2   Driverless cars, also known as autonomous veh...        1.0   \n",
       "3  When people ask for advice they usually ask fo...        0.0   \n",
       "4  The history of mathematics is filled with inte...        1.0   \n",
       "\n",
       "                                         word_tokens  stop_word_ratio  \\\n",
       "0  [A, Cowboy, Who, Rode, the, Waves, Title, :, A...         0.335702   \n",
       "1  [Mostly, everyone, is, aware, of, the, so, cal...         0.429348   \n",
       "2  [Driverless, cars, ,, also, known, as, autonom...         0.397849   \n",
       "3  [When, people, ask, for, advice, they, usually...         0.443515   \n",
       "4  [The, history, of, mathematics, is, filled, wi...         0.267241   \n",
       "\n",
       "   Number_of_words  complex_word_ratio  Avg_Tf-Idf  \n",
       "0              486            0.087034    0.018817  \n",
       "1              326            0.062500    0.035812  \n",
       "2              423            0.227957    0.024328  \n",
       "3              226            0.125523    0.033575  \n",
       "4              321            0.252874    0.042527  "
      ]
     },
     "execution_count": 27,
     "metadata": {},
     "output_type": "execute_result"
    }
   ],
   "source": [
    "final_df.head()"
   ]
  },
  {
   "cell_type": "code",
   "execution_count": 28,
   "id": "a1973696",
   "metadata": {},
   "outputs": [],
   "source": [
    "missing_df=final_df[final_df['Avg_Tf-Idf'].isnull()==True]"
   ]
  },
  {
   "cell_type": "code",
   "execution_count": 29,
   "id": "27c29715",
   "metadata": {
    "scrolled": true
   },
   "outputs": [
    {
     "data": {
      "text/html": [
       "<div>\n",
       "<style scoped>\n",
       "    .dataframe tbody tr th:only-of-type {\n",
       "        vertical-align: middle;\n",
       "    }\n",
       "\n",
       "    .dataframe tbody tr th {\n",
       "        vertical-align: top;\n",
       "    }\n",
       "\n",
       "    .dataframe thead th {\n",
       "        text-align: right;\n",
       "    }\n",
       "</style>\n",
       "<table border=\"1\" class=\"dataframe\">\n",
       "  <thead>\n",
       "    <tr style=\"text-align: right;\">\n",
       "      <th></th>\n",
       "      <th>text</th>\n",
       "      <th>generated</th>\n",
       "      <th>word_tokens</th>\n",
       "      <th>stop_word_ratio</th>\n",
       "      <th>Number_of_words</th>\n",
       "      <th>complex_word_ratio</th>\n",
       "      <th>Avg_Tf-Idf</th>\n",
       "    </tr>\n",
       "  </thead>\n",
       "  <tbody>\n",
       "  </tbody>\n",
       "</table>\n",
       "</div>"
      ],
      "text/plain": [
       "Empty DataFrame\n",
       "Columns: [text, generated, word_tokens, stop_word_ratio, Number_of_words, complex_word_ratio, Avg_Tf-Idf]\n",
       "Index: []"
      ]
     },
     "execution_count": 29,
     "metadata": {},
     "output_type": "execute_result"
    }
   ],
   "source": [
    "missing_df"
   ]
  },
  {
   "cell_type": "code",
   "execution_count": 30,
   "id": "fd706545",
   "metadata": {},
   "outputs": [],
   "source": [
    "final_df=final_df.dropna()"
   ]
  },
  {
   "cell_type": "markdown",
   "id": "5831706c",
   "metadata": {},
   "source": [
    "Using Polarity_Score as feature"
   ]
  },
  {
   "cell_type": "code",
   "execution_count": 31,
   "id": "51695bea",
   "metadata": {},
   "outputs": [],
   "source": [
    "from textblob import TextBlob"
   ]
  },
  {
   "cell_type": "code",
   "execution_count": 32,
   "id": "cf86eef8",
   "metadata": {},
   "outputs": [],
   "source": [
    "def polarity_score(x):\n",
    "    y=TextBlob(x)\n",
    "    return y.sentiment.polarity"
   ]
  },
  {
   "cell_type": "code",
   "execution_count": 33,
   "id": "ec58a35f",
   "metadata": {},
   "outputs": [],
   "source": [
    "final_df['Polarity_Score']=final_df['text'].apply(polarity_score)"
   ]
  },
  {
   "cell_type": "markdown",
   "id": "e9a8fac8",
   "metadata": {},
   "source": [
    "Using Subjective_Score as feature"
   ]
  },
  {
   "cell_type": "code",
   "execution_count": 34,
   "id": "98b29b9d",
   "metadata": {},
   "outputs": [],
   "source": [
    "def subjective_score(x):\n",
    "    y=TextBlob(x)\n",
    "    return y.sentiment.subjectivity"
   ]
  },
  {
   "cell_type": "code",
   "execution_count": 35,
   "id": "a79ec109",
   "metadata": {},
   "outputs": [],
   "source": [
    "def count_sentences(corpus):\n",
    "    try:\n",
    "        # Tokenize the corpus into sentences\n",
    "        sentences = nltk.sent_tokenize(corpus)\n",
    "        num_sentences = len(sentences)\n",
    "        return num_sentences\n",
    "    except Exception as e:\n",
    "        return None"
   ]
  },
  {
   "cell_type": "code",
   "execution_count": 36,
   "id": "9327bf5e",
   "metadata": {},
   "outputs": [],
   "source": [
    "final_df['Subjective_Score']=final_df['text'].apply(subjective_score)"
   ]
  },
  {
   "cell_type": "code",
   "execution_count": 37,
   "id": "e3f68edf",
   "metadata": {},
   "outputs": [],
   "source": [
    "final_df['Number_of_sentences']=final_df['text'].apply(count_sentences)"
   ]
  },
  {
   "cell_type": "code",
   "execution_count": 38,
   "id": "35636ecc",
   "metadata": {},
   "outputs": [
    {
     "data": {
      "text/html": [
       "<div>\n",
       "<style scoped>\n",
       "    .dataframe tbody tr th:only-of-type {\n",
       "        vertical-align: middle;\n",
       "    }\n",
       "\n",
       "    .dataframe tbody tr th {\n",
       "        vertical-align: top;\n",
       "    }\n",
       "\n",
       "    .dataframe thead th {\n",
       "        text-align: right;\n",
       "    }\n",
       "</style>\n",
       "<table border=\"1\" class=\"dataframe\">\n",
       "  <thead>\n",
       "    <tr style=\"text-align: right;\">\n",
       "      <th></th>\n",
       "      <th>text</th>\n",
       "      <th>generated</th>\n",
       "      <th>word_tokens</th>\n",
       "      <th>stop_word_ratio</th>\n",
       "      <th>Number_of_words</th>\n",
       "      <th>complex_word_ratio</th>\n",
       "      <th>Avg_Tf-Idf</th>\n",
       "      <th>Polarity_Score</th>\n",
       "      <th>Subjective_Score</th>\n",
       "      <th>Number_of_sentences</th>\n",
       "    </tr>\n",
       "  </thead>\n",
       "  <tbody>\n",
       "    <tr>\n",
       "      <th>0</th>\n",
       "      <td>A Cowboy Who Rode the Waves\\n\\nTitle: A Cowboy...</td>\n",
       "      <td>1.0</td>\n",
       "      <td>[A, Cowboy, Who, Rode, the, Waves, Title, :, A...</td>\n",
       "      <td>0.335702</td>\n",
       "      <td>486</td>\n",
       "      <td>0.087034</td>\n",
       "      <td>0.018817</td>\n",
       "      <td>0.235943</td>\n",
       "      <td>0.437037</td>\n",
       "      <td>28</td>\n",
       "    </tr>\n",
       "    <tr>\n",
       "      <th>1</th>\n",
       "      <td>Mostly everyone is aware of the so called \"glo...</td>\n",
       "      <td>0.0</td>\n",
       "      <td>[Mostly, everyone, is, aware, of, the, so, cal...</td>\n",
       "      <td>0.429348</td>\n",
       "      <td>326</td>\n",
       "      <td>0.062500</td>\n",
       "      <td>0.035812</td>\n",
       "      <td>0.078897</td>\n",
       "      <td>0.332990</td>\n",
       "      <td>14</td>\n",
       "    </tr>\n",
       "    <tr>\n",
       "      <th>2</th>\n",
       "      <td>Driverless cars, also known as autonomous veh...</td>\n",
       "      <td>1.0</td>\n",
       "      <td>[Driverless, cars, ,, also, known, as, autonom...</td>\n",
       "      <td>0.397849</td>\n",
       "      <td>423</td>\n",
       "      <td>0.227957</td>\n",
       "      <td>0.024328</td>\n",
       "      <td>0.144965</td>\n",
       "      <td>0.593229</td>\n",
       "      <td>18</td>\n",
       "    </tr>\n",
       "    <tr>\n",
       "      <th>3</th>\n",
       "      <td>When people ask for advice they usually ask fo...</td>\n",
       "      <td>0.0</td>\n",
       "      <td>[When, people, ask, for, advice, they, usually...</td>\n",
       "      <td>0.443515</td>\n",
       "      <td>226</td>\n",
       "      <td>0.125523</td>\n",
       "      <td>0.033575</td>\n",
       "      <td>0.024366</td>\n",
       "      <td>0.614017</td>\n",
       "      <td>5</td>\n",
       "    </tr>\n",
       "    <tr>\n",
       "      <th>4</th>\n",
       "      <td>The history of mathematics is filled with inte...</td>\n",
       "      <td>1.0</td>\n",
       "      <td>[The, history, of, mathematics, is, filled, wi...</td>\n",
       "      <td>0.267241</td>\n",
       "      <td>321</td>\n",
       "      <td>0.252874</td>\n",
       "      <td>0.042527</td>\n",
       "      <td>0.112871</td>\n",
       "      <td>0.384928</td>\n",
       "      <td>13</td>\n",
       "    </tr>\n",
       "  </tbody>\n",
       "</table>\n",
       "</div>"
      ],
      "text/plain": [
       "                                                text  generated  \\\n",
       "0  A Cowboy Who Rode the Waves\\n\\nTitle: A Cowboy...        1.0   \n",
       "1  Mostly everyone is aware of the so called \"glo...        0.0   \n",
       "2   Driverless cars, also known as autonomous veh...        1.0   \n",
       "3  When people ask for advice they usually ask fo...        0.0   \n",
       "4  The history of mathematics is filled with inte...        1.0   \n",
       "\n",
       "                                         word_tokens  stop_word_ratio  \\\n",
       "0  [A, Cowboy, Who, Rode, the, Waves, Title, :, A...         0.335702   \n",
       "1  [Mostly, everyone, is, aware, of, the, so, cal...         0.429348   \n",
       "2  [Driverless, cars, ,, also, known, as, autonom...         0.397849   \n",
       "3  [When, people, ask, for, advice, they, usually...         0.443515   \n",
       "4  [The, history, of, mathematics, is, filled, wi...         0.267241   \n",
       "\n",
       "   Number_of_words  complex_word_ratio  Avg_Tf-Idf  Polarity_Score  \\\n",
       "0              486            0.087034    0.018817        0.235943   \n",
       "1              326            0.062500    0.035812        0.078897   \n",
       "2              423            0.227957    0.024328        0.144965   \n",
       "3              226            0.125523    0.033575        0.024366   \n",
       "4              321            0.252874    0.042527        0.112871   \n",
       "\n",
       "   Subjective_Score  Number_of_sentences  \n",
       "0          0.437037                   28  \n",
       "1          0.332990                   14  \n",
       "2          0.593229                   18  \n",
       "3          0.614017                    5  \n",
       "4          0.384928                   13  "
      ]
     },
     "execution_count": 38,
     "metadata": {},
     "output_type": "execute_result"
    }
   ],
   "source": [
    "final_df.head()"
   ]
  },
  {
   "cell_type": "code",
   "execution_count": 39,
   "id": "4818913f",
   "metadata": {},
   "outputs": [],
   "source": [
    "from sklearn.linear_model import LogisticRegression"
   ]
  },
  {
   "cell_type": "code",
   "execution_count": 40,
   "id": "3663c79b",
   "metadata": {},
   "outputs": [],
   "source": [
    "# Separating features and target variable\n",
    "X = final_df.iloc[:,3:10]\n",
    "y = final_df['generated']"
   ]
  },
  {
   "cell_type": "code",
   "execution_count": 41,
   "id": "f905d208",
   "metadata": {},
   "outputs": [],
   "source": [
    "# Splitting the data into training and temporary data (70% training, 30% temp)\n",
    "X_train, X_temp, y_train, y_temp = train_test_split(X, y, test_size=0.3, random_state=42)\n",
    "\n",
    "# Splitting the temporary data into testing and validation sets (50% testing, 50% validation)\n",
    "X_test, X_valid, y_test, y_valid = train_test_split(X_temp, y_temp, test_size=0.5, random_state=42)"
   ]
  },
  {
   "cell_type": "code",
   "execution_count": 42,
   "id": "a72390c6",
   "metadata": {},
   "outputs": [
    {
     "name": "stdout",
     "output_type": "stream",
     "text": [
      "Accuracy: 0.7745333333333333, C: 0.01\n",
      "Accuracy: 0.8390666666666666, C: 0.1\n"
     ]
    },
    {
     "name": "stderr",
     "output_type": "stream",
     "text": [
      "/anaconda/envs/azureml_py38_PT_TF/lib/python3.8/site-packages/sklearn/linear_model/_logistic.py:458: ConvergenceWarning: lbfgs failed to converge (status=1):\n",
      "STOP: TOTAL NO. of ITERATIONS REACHED LIMIT.\n",
      "\n",
      "Increase the number of iterations (max_iter) or scale the data as shown in:\n",
      "    https://scikit-learn.org/stable/modules/preprocessing.html\n",
      "Please also refer to the documentation for alternative solver options:\n",
      "    https://scikit-learn.org/stable/modules/linear_model.html#logistic-regression\n",
      "  n_iter_i = _check_optimize_result(\n"
     ]
    },
    {
     "name": "stdout",
     "output_type": "stream",
     "text": [
      "Accuracy: 0.8429333333333333, C: 1\n",
      "Accuracy: 0.8424, C: 10\n",
      "Accuracy: 0.8441333333333333, C: 100\n",
      "Best accuracy: 0.8441333333333333, Best C: 100\n"
     ]
    },
    {
     "name": "stderr",
     "output_type": "stream",
     "text": [
      "/anaconda/envs/azureml_py38_PT_TF/lib/python3.8/site-packages/sklearn/linear_model/_logistic.py:458: ConvergenceWarning: lbfgs failed to converge (status=1):\n",
      "STOP: TOTAL NO. of ITERATIONS REACHED LIMIT.\n",
      "\n",
      "Increase the number of iterations (max_iter) or scale the data as shown in:\n",
      "    https://scikit-learn.org/stable/modules/preprocessing.html\n",
      "Please also refer to the documentation for alternative solver options:\n",
      "    https://scikit-learn.org/stable/modules/linear_model.html#logistic-regression\n",
      "  n_iter_i = _check_optimize_result(\n"
     ]
    }
   ],
   "source": [
    "# Define a list of possible values for C\n",
    "C_list = [0.01, 0.1, 1, 10, 100]\n",
    "\n",
    "# Initialize the best accuracy and the best C\n",
    "best_acc = 0\n",
    "best_C = 0\n",
    "\n",
    "# Loop over the C values\n",
    "for C in C_list:\n",
    "    # Create a logistic regression model with the current C\n",
    "    model = LogisticRegression(C=C)\n",
    "    # Fit the model on the train set\n",
    "    model.fit(X_train, y_train)\n",
    "    # Predict the labels on the validation set\n",
    "    y_pred = model.predict(X_valid)\n",
    "    # Compute the accuracy on the validation set\n",
    "    acc = accuracy_score(y_valid, y_pred)\n",
    "    # Print the accuracy and the C value\n",
    "    print(f\"Accuracy: {acc}, C: {C}\")\n",
    "    # Update the best accuracy and the best C if needed\n",
    "    if acc > best_acc:\n",
    "        best_acc = acc\n",
    "        best_C = C\n",
    "\n",
    "# Print the best accuracy and the best C\n",
    "print(f\"Best accuracy: {best_acc}, Best C: {best_C}\")"
   ]
  },
  {
   "cell_type": "code",
   "execution_count": 43,
   "id": "8f12bb57",
   "metadata": {},
   "outputs": [
    {
     "name": "stderr",
     "output_type": "stream",
     "text": [
      "/anaconda/envs/azureml_py38_PT_TF/lib/python3.8/site-packages/sklearn/linear_model/_logistic.py:458: ConvergenceWarning: lbfgs failed to converge (status=1):\n",
      "STOP: TOTAL NO. of ITERATIONS REACHED LIMIT.\n",
      "\n",
      "Increase the number of iterations (max_iter) or scale the data as shown in:\n",
      "    https://scikit-learn.org/stable/modules/preprocessing.html\n",
      "Please also refer to the documentation for alternative solver options:\n",
      "    https://scikit-learn.org/stable/modules/linear_model.html#logistic-regression\n",
      "  n_iter_i = _check_optimize_result(\n"
     ]
    },
    {
     "data": {
      "text/html": [
       "<style>#sk-container-id-1 {color: black;background-color: white;}#sk-container-id-1 pre{padding: 0;}#sk-container-id-1 div.sk-toggleable {background-color: white;}#sk-container-id-1 label.sk-toggleable__label {cursor: pointer;display: block;width: 100%;margin-bottom: 0;padding: 0.3em;box-sizing: border-box;text-align: center;}#sk-container-id-1 label.sk-toggleable__label-arrow:before {content: \"▸\";float: left;margin-right: 0.25em;color: #696969;}#sk-container-id-1 label.sk-toggleable__label-arrow:hover:before {color: black;}#sk-container-id-1 div.sk-estimator:hover label.sk-toggleable__label-arrow:before {color: black;}#sk-container-id-1 div.sk-toggleable__content {max-height: 0;max-width: 0;overflow: hidden;text-align: left;background-color: #f0f8ff;}#sk-container-id-1 div.sk-toggleable__content pre {margin: 0.2em;color: black;border-radius: 0.25em;background-color: #f0f8ff;}#sk-container-id-1 input.sk-toggleable__control:checked~div.sk-toggleable__content {max-height: 200px;max-width: 100%;overflow: auto;}#sk-container-id-1 input.sk-toggleable__control:checked~label.sk-toggleable__label-arrow:before {content: \"▾\";}#sk-container-id-1 div.sk-estimator input.sk-toggleable__control:checked~label.sk-toggleable__label {background-color: #d4ebff;}#sk-container-id-1 div.sk-label input.sk-toggleable__control:checked~label.sk-toggleable__label {background-color: #d4ebff;}#sk-container-id-1 input.sk-hidden--visually {border: 0;clip: rect(1px 1px 1px 1px);clip: rect(1px, 1px, 1px, 1px);height: 1px;margin: -1px;overflow: hidden;padding: 0;position: absolute;width: 1px;}#sk-container-id-1 div.sk-estimator {font-family: monospace;background-color: #f0f8ff;border: 1px dotted black;border-radius: 0.25em;box-sizing: border-box;margin-bottom: 0.5em;}#sk-container-id-1 div.sk-estimator:hover {background-color: #d4ebff;}#sk-container-id-1 div.sk-parallel-item::after {content: \"\";width: 100%;border-bottom: 1px solid gray;flex-grow: 1;}#sk-container-id-1 div.sk-label:hover label.sk-toggleable__label {background-color: #d4ebff;}#sk-container-id-1 div.sk-serial::before {content: \"\";position: absolute;border-left: 1px solid gray;box-sizing: border-box;top: 0;bottom: 0;left: 50%;z-index: 0;}#sk-container-id-1 div.sk-serial {display: flex;flex-direction: column;align-items: center;background-color: white;padding-right: 0.2em;padding-left: 0.2em;position: relative;}#sk-container-id-1 div.sk-item {position: relative;z-index: 1;}#sk-container-id-1 div.sk-parallel {display: flex;align-items: stretch;justify-content: center;background-color: white;position: relative;}#sk-container-id-1 div.sk-item::before, #sk-container-id-1 div.sk-parallel-item::before {content: \"\";position: absolute;border-left: 1px solid gray;box-sizing: border-box;top: 0;bottom: 0;left: 50%;z-index: -1;}#sk-container-id-1 div.sk-parallel-item {display: flex;flex-direction: column;z-index: 1;position: relative;background-color: white;}#sk-container-id-1 div.sk-parallel-item:first-child::after {align-self: flex-end;width: 50%;}#sk-container-id-1 div.sk-parallel-item:last-child::after {align-self: flex-start;width: 50%;}#sk-container-id-1 div.sk-parallel-item:only-child::after {width: 0;}#sk-container-id-1 div.sk-dashed-wrapped {border: 1px dashed gray;margin: 0 0.4em 0.5em 0.4em;box-sizing: border-box;padding-bottom: 0.4em;background-color: white;}#sk-container-id-1 div.sk-label label {font-family: monospace;font-weight: bold;display: inline-block;line-height: 1.2em;}#sk-container-id-1 div.sk-label-container {text-align: center;}#sk-container-id-1 div.sk-container {/* jupyter's `normalize.less` sets `[hidden] { display: none; }` but bootstrap.min.css set `[hidden] { display: none !important; }` so we also need the `!important` here to be able to override the default hidden behavior on the sphinx rendered scikit-learn.org. See: https://github.com/scikit-learn/scikit-learn/issues/21755 */display: inline-block !important;position: relative;}#sk-container-id-1 div.sk-text-repr-fallback {display: none;}</style><div id=\"sk-container-id-1\" class=\"sk-top-container\"><div class=\"sk-text-repr-fallback\"><pre>LogisticRegression(C=100)</pre><b>In a Jupyter environment, please rerun this cell to show the HTML representation or trust the notebook. <br />On GitHub, the HTML representation is unable to render, please try loading this page with nbviewer.org.</b></div><div class=\"sk-container\" hidden><div class=\"sk-item\"><div class=\"sk-estimator sk-toggleable\"><input class=\"sk-toggleable__control sk-hidden--visually\" id=\"sk-estimator-id-1\" type=\"checkbox\" checked><label for=\"sk-estimator-id-1\" class=\"sk-toggleable__label sk-toggleable__label-arrow\">LogisticRegression</label><div class=\"sk-toggleable__content\"><pre>LogisticRegression(C=100)</pre></div></div></div></div></div>"
      ],
      "text/plain": [
       "LogisticRegression(C=100)"
      ]
     },
     "execution_count": 43,
     "metadata": {},
     "output_type": "execute_result"
    }
   ],
   "source": [
    "# Create a logistic regression model with the best C\n",
    "final_model = LogisticRegression(C=best_C)\n",
    "# Fit the model on the whole train set\n",
    "final_model.fit(X_train, y_train)"
   ]
  },
  {
   "cell_type": "code",
   "execution_count": 45,
   "id": "1492308d",
   "metadata": {},
   "outputs": [
    {
     "data": {
      "text/plain": [
       "Index(['stop_word_ratio', 'Number_of_words', 'complex_word_ratio',\n",
       "       'Avg_Tf-Idf', 'Polarity_Score', 'Subjective_Score',\n",
       "       'Number_of_sentences'],\n",
       "      dtype='object')"
      ]
     },
     "execution_count": 45,
     "metadata": {},
     "output_type": "execute_result"
    }
   ],
   "source": [
    "X.columns"
   ]
  },
  {
   "cell_type": "code",
   "execution_count": 46,
   "id": "59bb7d90",
   "metadata": {},
   "outputs": [],
   "source": [
    "feature_names = ['stop_word_ratio', 'Number_of_words', 'complex_word_ratio',\n",
    "       'Avg_Tf-Idf', 'Polarity_Score', 'Subjective_Score',\n",
    "       'Number_of_sentences']"
   ]
  },
  {
   "cell_type": "code",
   "execution_count": 47,
   "id": "251808ba",
   "metadata": {},
   "outputs": [
    {
     "name": "stdout",
     "output_type": "stream",
     "text": [
      "Intercept: 0.6510411238324886\n",
      "stop_word_ratio: -14.59608627611113\n",
      "Number_of_words: -0.005853481591525254\n",
      "complex_word_ratio: 31.780465417577332\n",
      "Avg_Tf-Idf: -1.0219420725587296\n",
      "Polarity_Score: 1.9025795335847135\n",
      "Subjective_Score: 4.606149477679758\n",
      "Number_of_sentences: 0.01078394883874536\n"
     ]
    }
   ],
   "source": [
    "# Retrieve the model parameters (coefficients)\n",
    "coefficients = final_model.coef_[0]\n",
    "intercept = final_model.intercept_[0]\n",
    "\n",
    "# Display coefficients with feature names\n",
    "print(\"Intercept:\", intercept)\n",
    "for feature, coef in zip(feature_names, coefficients):\n",
    "    print(f\"{feature}: {coef}\")"
   ]
  },
  {
   "cell_type": "code",
   "execution_count": 48,
   "id": "c3c62787",
   "metadata": {},
   "outputs": [
    {
     "name": "stdout",
     "output_type": "stream",
     "text": [
      "Accuracy: 0.8468\n",
      "[[3195  532]\n",
      " [ 617 3156]]\n"
     ]
    }
   ],
   "source": [
    "# Predict the labels on the test set\n",
    "y_pred = final_model.predict(X_test)\n",
    "# Compute the accuracy on the test set\n",
    "acc = accuracy_score(y_test, y_pred)\n",
    "# Print the accuracy\n",
    "print(f\"Accuracy: {acc}\")\n",
    "\n",
    "# Compute the confusion matrix on the test set\n",
    "cm = confusion_matrix(y_test, y_pred)\n",
    "# Print the confusion matrix\n",
    "print(cm)"
   ]
  },
  {
   "cell_type": "code",
   "execution_count": 49,
   "id": "46826ffc",
   "metadata": {},
   "outputs": [],
   "source": [
    "from sklearn.metrics import confusion_matrix"
   ]
  },
  {
   "cell_type": "code",
   "execution_count": 50,
   "id": "e6c5c0c7",
   "metadata": {},
   "outputs": [
    {
     "data": {
      "image/png": "[encoded data removed]",
      "text/plain": [
       "<Figure size 500x500 with 1 Axes>"
      ]
     },
     "metadata": {},
     "output_type": "display_data"
    }
   ],
   "source": [
    "# Assuming you have already computed the confusion matrix\n",
    "cm = confusion_matrix(y_test, y_pred)\n",
    "\n",
    "# Plot confusion matrix as heatmap\n",
    "plt.figure(figsize=(5,5))\n",
    "sns.heatmap(cm, annot=True, fmt=\"d\", cmap=\"Blues\", cbar=False)\n",
    "plt.xlabel('Predicted Label')\n",
    "plt.ylabel('True Label')\n",
    "plt.title('Confusion Matrix')\n",
    "plt.show()"
   ]
  },
  {
   "cell_type": "code",
   "execution_count": 51,
   "id": "8858bee2",
   "metadata": {},
   "outputs": [],
   "source": [
    "from sklearn.metrics import roc_curve, roc_auc_score"
   ]
  },
  {
   "cell_type": "code",
   "execution_count": 52,
   "id": "96f8fb04",
   "metadata": {
    "scrolled": false
   },
   "outputs": [
    {
     "data": {
      "image/png": "[encoded data removed]",
      "text/plain": [
       "<Figure size 500x500 with 1 Axes>"
      ]
     },
     "metadata": {},
     "output_type": "display_data"
    },
    {
     "name": "stdout",
     "output_type": "stream",
     "text": [
      "Optimal Threshold: 0.5409162464571884\n"
     ]
    }
   ],
   "source": [
    "# Predict probabilities on the test set\n",
    "y_probs = final_model.predict_proba(X_test)[:, 1]\n",
    "\n",
    "# Calculate ROC curve\n",
    "fpr, tpr, thresholds = roc_curve(y_test, y_probs)\n",
    "\n",
    "# Calculate AUC score\n",
    "auc = roc_auc_score(y_test, y_probs)\n",
    "\n",
    "# Find the index of the point with highest TPR and lowest FPR\n",
    "optimal_idx = np.argmax(tpr - fpr)\n",
    "\n",
    "# Get the threshold corresponding to the optimal point\n",
    "optimal_threshold = thresholds[optimal_idx]\n",
    "\n",
    "# Plot ROC curve with the optimal point\n",
    "plt.figure(figsize=(5, 5))\n",
    "plt.plot(fpr, tpr, label=f'AUC = {auc:.2f}')\n",
    "plt.plot(fpr[optimal_idx], tpr[optimal_idx], 'ro', markersize=8, label='Optimal Threshold')\n",
    "plt.plot([0, 1], [0, 1], linestyle='--', color='gray', label='Random')\n",
    "plt.xlabel('False Positive Rate')\n",
    "plt.ylabel('True Positive Rate')\n",
    "plt.title('Receiver Operating Characteristic (ROC) Curve')\n",
    "plt.legend()\n",
    "plt.show()\n",
    "\n",
    "print(\"Optimal Threshold:\", optimal_threshold)\n"
   ]
  },
  {
   "cell_type": "markdown",
   "id": "b5616ee3",
   "metadata": {},
   "source": [
    "Model-2 Using Deep-Learning: LSTM"
   ]
  },
  {
   "cell_type": "code",
   "execution_count": null,
   "id": "85f4c391",
   "metadata": {},
   "outputs": [],
   "source": [
    "final_df.head()"
   ]
  },
  {
   "cell_type": "code",
   "execution_count": 8,
   "id": "d164a825",
   "metadata": {},
   "outputs": [],
   "source": [
    "final_df['Clean_text']=final_df['text'].str.lower()"
   ]
  },
  {
   "cell_type": "code",
   "execution_count": 9,
   "id": "d68b09f9",
   "metadata": {},
   "outputs": [],
   "source": [
    "from nltk.corpus import stopwords"
   ]
  },
  {
   "cell_type": "code",
   "execution_count": 10,
   "id": "19ea3bb5",
   "metadata": {},
   "outputs": [],
   "source": [
    "STOPWORDS = set(stopwords.words('english'))"
   ]
  },
  {
   "cell_type": "code",
   "execution_count": 11,
   "id": "a68a2a97",
   "metadata": {},
   "outputs": [],
   "source": [
    "def remove_stopwords(x):\n",
    "    return \" \".join([word for word in x.split() if word not in STOPWORDS])"
   ]
  },
  {
   "cell_type": "code",
   "execution_count": 12,
   "id": "616c890d",
   "metadata": {},
   "outputs": [],
   "source": [
    "final_df['Clean_text']=final_df['Clean_text'].apply(lambda y: remove_stopwords(y))"
   ]
  },
  {
   "cell_type": "code",
   "execution_count": 13,
   "id": "bc01b58a",
   "metadata": {},
   "outputs": [],
   "source": [
    "import re"
   ]
  },
  {
   "cell_type": "code",
   "execution_count": 14,
   "id": "3e8f8085",
   "metadata": {},
   "outputs": [],
   "source": [
    "def remove_spl_chars(x):\n",
    "    x=re.sub('[^a-zA-Z0-9]', ' ', x)\n",
    "    x=re.sub('\\s+', ' ',x)\n",
    "    return x"
   ]
  },
  {
   "cell_type": "code",
   "execution_count": 15,
   "id": "48ded55d",
   "metadata": {},
   "outputs": [],
   "source": [
    "final_df['Clean_text']=final_df['Clean_text'].apply(lambda y: remove_spl_chars(y))"
   ]
  },
  {
   "cell_type": "code",
   "execution_count": 16,
   "id": "fe09b372",
   "metadata": {
    "scrolled": false
   },
   "outputs": [
    {
     "name": "stderr",
     "output_type": "stream",
     "text": [
      "2024-04-25 05:36:33.383984: I tensorflow/core/platform/cpu_feature_guard.cc:193] This TensorFlow binary is optimized with oneAPI Deep Neural Network Library (oneDNN) to use the following CPU instructions in performance-critical operations:  AVX2 AVX512F AVX512_VNNI FMA\n",
      "To enable them in other operations, rebuild TensorFlow with the appropriate compiler flags.\n",
      "2024-04-25 05:36:33.498282: I tensorflow/core/util/port.cc:104] oneDNN custom operations are on. You may see slightly different numerical results due to floating-point round-off errors from different computation orders. To turn them off, set the environment variable `TF_ENABLE_ONEDNN_OPTS=0`.\n",
      "2024-04-25 05:36:33.503435: W tensorflow/compiler/xla/stream_executor/platform/default/dso_loader.cc:64] Could not load dynamic library 'libcudart.so.11.0'; dlerror: libcudart.so.11.0: cannot open shared object file: No such file or directory\n",
      "2024-04-25 05:36:33.503452: I tensorflow/compiler/xla/stream_executor/cuda/cudart_stub.cc:29] Ignore above cudart dlerror if you do not have a GPU set up on your machine.\n",
      "2024-04-25 05:36:34.238315: W tensorflow/compiler/xla/stream_executor/platform/default/dso_loader.cc:64] Could not load dynamic library 'libnvinfer.so.7'; dlerror: libnvinfer.so.7: cannot open shared object file: No such file or directory\n",
      "2024-04-25 05:36:34.238422: W tensorflow/compiler/xla/stream_executor/platform/default/dso_loader.cc:64] Could not load dynamic library 'libnvinfer_plugin.so.7'; dlerror: libnvinfer_plugin.so.7: cannot open shared object file: No such file or directory\n",
      "2024-04-25 05:36:34.238431: W tensorflow/compiler/tf2tensorrt/utils/py_utils.cc:38] TF-TRT Warning: Cannot dlopen some TensorRT libraries. If you would like to use Nvidia GPU with TensorRT, please make sure the missing libraries mentioned above are installed properly.\n"
     ]
    }
   ],
   "source": [
    "from tensorflow.keras.preprocessing.text import Tokenizer\n",
    "from tensorflow.keras.preprocessing.sequence import pad_sequences"
   ]
  },
  {
   "cell_type": "code",
   "execution_count": 17,
   "id": "f6005d8a",
   "metadata": {},
   "outputs": [
    {
     "data": {
      "text/plain": [
       "81106"
      ]
     },
     "execution_count": 17,
     "metadata": {},
     "output_type": "execute_result"
    }
   ],
   "source": [
    "tokenizer = Tokenizer()\n",
    "tokenizer.fit_on_texts(final_df['Clean_text'])\n",
    "word_index = tokenizer.word_index\n",
    "vocab_size=len(word_index)\n",
    "vocab_size"
   ]
  },
  {
   "cell_type": "code",
   "execution_count": 18,
   "id": "028bb87c",
   "metadata": {},
   "outputs": [],
   "source": [
    "def number_of_words(x):\n",
    "    count=0\n",
    "    for i in x:\n",
    "        count=count+1\n",
    "    return count"
   ]
  },
  {
   "cell_type": "code",
   "execution_count": 19,
   "id": "8f29a45b",
   "metadata": {},
   "outputs": [],
   "source": [
    "final_df['Number_of_words']=final_df['Clean_text'].apply(number_of_words)"
   ]
  },
  {
   "cell_type": "code",
   "execution_count": null,
   "id": "9fca17da",
   "metadata": {},
   "outputs": [],
   "source": [
    "# Plotting directly from DataFrame\n",
    "final_df['Number_of_words'].plot(kind='hist', bins=range(min(final_df['Number_of_words']), max(final_df['Number_of_words']) + 2), rwidth=0.8, color='blue', edgecolor='black')\n",
    "\n",
    "# Adding labels and title\n",
    "plt.xlabel('Values')\n",
    "plt.ylabel('Frequency')\n",
    "plt.title('Frequency Distribution of Number-of-Words')\n",
    "\n",
    "# Show the plot\n",
    "plt.show()"
   ]
  },
  {
   "cell_type": "code",
   "execution_count": 20,
   "id": "5658c06e",
   "metadata": {},
   "outputs": [],
   "source": [
    "final_df['sequences'] = final_df['Clean_text'].apply(lambda x: tokenizer.texts_to_sequences([x])[0])"
   ]
  },
  {
   "cell_type": "code",
   "execution_count": 21,
   "id": "ef5c8b88",
   "metadata": {
    "scrolled": true
   },
   "outputs": [],
   "source": [
    "def pad_sequence(seq):\n",
    "\n",
    "    return pad_sequences([seq], maxlen=2000, dtype='int32', padding='post',truncating='post')[0]"
   ]
  },
  {
   "cell_type": "code",
   "execution_count": 22,
   "id": "734e58b4",
   "metadata": {},
   "outputs": [],
   "source": [
    "final_df['Padded_seq'] = final_df['sequences'].apply(pad_sequence)"
   ]
  },
  {
   "cell_type": "code",
   "execution_count": 23,
   "id": "e862eda4",
   "metadata": {},
   "outputs": [],
   "source": [
    "from sklearn.model_selection import train_test_split\n",
    "\n",
    "# Assuming final_df['Padded_seq'] is your features and you have a corresponding labels array or column\n",
    "X_train, X_val, y_train, y_val = train_test_split(final_df['Padded_seq'].tolist(), final_df['generated'], test_size=0.3, random_state=42)\n"
   ]
  },
  {
   "cell_type": "markdown",
   "id": "aeef84b5",
   "metadata": {},
   "source": [
    "Glove-Word Embedding"
   ]
  },
  {
   "cell_type": "code",
   "execution_count": 24,
   "id": "cb53f36e",
   "metadata": {},
   "outputs": [],
   "source": [
    "# create embedding index\n",
    "embedding_index = {}\n",
    "with open(r'glove.6B.100d.txt', encoding='utf-8') as f:\n",
    "    for line in f:\n",
    "        values = line.split()\n",
    "        word = values[0]\n",
    "        coefs = np.asarray(values[1:], dtype='float32')\n",
    "        embedding_index[word] = coefs"
   ]
  },
  {
   "cell_type": "code",
   "execution_count": 25,
   "id": "22f26ca2",
   "metadata": {},
   "outputs": [],
   "source": [
    "# create embedding matrix\n",
    "embedding_matrix = np.zeros((vocab_size+1, 100), dtype='float32')\n",
    "for word, i in word_index.items():\n",
    "    embedding_vector = embedding_index.get(word)\n",
    "    if embedding_vector is not None:\n",
    "        embedding_matrix[i] = embedding_vector"
   ]
  },
  {
   "cell_type": "code",
   "execution_count": 26,
   "id": "9df9abc9",
   "metadata": {
    "scrolled": true
   },
   "outputs": [],
   "source": [
    "def generate_batches(X, y, batch_size, vocab_size, embedding_matrix):\n",
    "    total_size = len(X)\n",
    "    for start in range(0, total_size, batch_size):\n",
    "        end = min(start + batch_size, total_size)\n",
    "        # Process each sequence to embeddings and ensure all have the same length\n",
    "        X_batch = [np.vstack([embedding_matrix[token] for token in seq if token < vocab_size]) for seq in X[start:end]]\n",
    "        \n",
    "        # Find the maximum sequence length in this batch\n",
    "        max_len = max(map(len, X_batch))\n",
    "        \n",
    "        # Pad sequences so that each sequence has the same length\n",
    "        X_batch = np.array([np.pad(seq, ((0, max_len - len(seq)), (0, 0)), mode='constant', constant_values=0) for seq in X_batch])\n",
    "        \n",
    "        y_batch = np.array(y[start:end])\n",
    "        yield X_batch, y_batch\n",
    "\n",
    "   "
   ]
  },
  {
   "cell_type": "code",
   "execution_count": 27,
   "id": "3e61864c",
   "metadata": {},
   "outputs": [
    {
     "name": "stderr",
     "output_type": "stream",
     "text": [
      "2024-04-25 05:37:06.276424: E tensorflow/compiler/xla/stream_executor/cuda/cuda_driver.cc:267] failed call to cuInit: CUDA_ERROR_NO_DEVICE: no CUDA-capable device is detected\n",
      "2024-04-25 05:37:06.276463: I tensorflow/compiler/xla/stream_executor/cuda/cuda_diagnostics.cc:156] kernel driver does not appear to be running on this host (project-instance): /proc/driver/nvidia/version does not exist\n",
      "2024-04-25 05:37:06.276922: I tensorflow/core/platform/cpu_feature_guard.cc:193] This TensorFlow binary is optimized with oneAPI Deep Neural Network Library (oneDNN) to use the following CPU instructions in performance-critical operations:  AVX2 AVX512F AVX512_VNNI FMA\n",
      "To enable them in other operations, rebuild TensorFlow with the appropriate compiler flags.\n"
     ]
    }
   ],
   "source": [
    "from tensorflow.keras.models import Sequential\n",
    "from tensorflow.keras.layers import LSTM, Dense, TimeDistributed, Masking\n",
    "\n",
    "model = Sequential([\n",
    "    # Masking layer to ignore the zero paddings in the input\n",
    "    Masking(mask_value=0., input_shape=(None, 100)),\n",
    "    LSTM(64, return_sequences=True),\n",
    "    LSTM(64),\n",
    "    Dense(1, activation='sigmoid')  # Assuming binary classification\n",
    "])\n",
    "\n",
    "model.compile(optimizer='adam', loss='binary_crossentropy', metrics=['accuracy'])\n"
   ]
  },
  {
   "cell_type": "code",
   "execution_count": 29,
   "id": "0ea44c5b",
   "metadata": {
    "scrolled": true
   },
   "outputs": [
    {
     "name": "stdout",
     "output_type": "stream",
     "text": [
      "175/175 [==============================] - 727s 4s/step - loss: 0.2130 - accuracy: 0.9247 - val_loss: 0.1302 - val_accuracy: 0.9583\n"
     ]
    }
   ],
   "source": [
    "# Use a smaller batch size\n",
    "batch_size = 200  # Adjust this based on your system's capability\n",
    "\n",
    "train_steps = len(X_train) // batch_size  # Recalculate the number of batches\n",
    "val_steps = len(X_val) // batch_size  # Recalculate the number of batches for validation\n",
    "\n",
    "history=model.fit(\n",
    "    generate_batches(X_train, y_train, batch_size,vocab_size,embedding_matrix),\n",
    "    steps_per_epoch=train_steps,\n",
    "    validation_data=generate_batches(X_val, y_val, batch_size,vocab_size,embedding_matrix),\n",
    "    validation_steps=val_steps\n",
    ")\n",
    "\n"
   ]
  },
  {
   "cell_type": "code",
   "execution_count": 31,
   "id": "4467fedd",
   "metadata": {},
   "outputs": [
    {
     "name": "stdout",
     "output_type": "stream",
     "text": [
      "Training Loss:  [0.21300531923770905]\n",
      "Training Accuracy:  [0.9246857166290283]\n",
      "Validation Loss:  [0.1302489936351776]\n",
      "Validation Accuracy:  [0.9583333134651184]\n"
     ]
    }
   ],
   "source": [
    "# Extracting loss and accuracy from the training set\n",
    "train_loss = history.history['loss']\n",
    "train_accuracy = history.history['accuracy']\n",
    "\n",
    "# Extracting loss and accuracy from the validation set\n",
    "val_loss = history.history['val_loss']\n",
    "val_accuracy = history.history['val_accuracy']\n",
    "\n",
    "# Print or plot the results\n",
    "print(\"Training Loss: \", train_loss)\n",
    "print(\"Training Accuracy: \", train_accuracy)\n",
    "print(\"Validation Loss: \", val_loss)\n",
    "print(\"Validation Accuracy: \", val_accuracy)\n"
   ]
  },
  {
   "cell_type": "code",
   "execution_count": 32,
   "id": "07a24b94",
   "metadata": {},
   "outputs": [
    {
     "name": "stdout",
     "output_type": "stream",
     "text": [
      "75/75 [==============================] - 131s 2s/step\n"
     ]
    }
   ],
   "source": [
    "# Assuming you have a validation set ready: X_val, y_val\n",
    "import numpy as np\n",
    "\n",
    "# Generate predictions for the validation set\n",
    "predictions = model.predict(generate_batches(X_val, y_val, batch_size, vocab_size, embedding_matrix), steps=val_steps)\n",
    "# Convert probabilities to class labels based on a threshold\n",
    "predicted_classes = (predictions > 0.5).astype(int)\n"
   ]
  },
  {
   "cell_type": "code",
   "execution_count": 34,
   "id": "e85ab79d",
   "metadata": {},
   "outputs": [
    {
     "data": {
      "image/png": "[encoded data removed]",
      "text/plain": [
       "<Figure size 500x500 with 2 Axes>"
      ]
     },
     "metadata": {},
     "output_type": "display_data"
    }
   ],
   "source": [
    "from sklearn.metrics import confusion_matrix\n",
    "\n",
    "# Compute the confusion matrix\n",
    "cm = confusion_matrix(y_val, predicted_classes)\n",
    "plt.figure(figsize=(5,5))\n",
    "sns.heatmap(cm, annot=True, fmt=\"d\", cmap='Blues', xticklabels=['Predicted Negative', 'Predicted Positive'], yticklabels=['Actual Negative', 'Actual Positive'])\n",
    "plt.ylabel('Actual Label')\n",
    "plt.xlabel('Predicted Label')\n",
    "plt.title('Confusion Matrix')\n",
    "plt.show()\n"
   ]
  }
 ],
 "metadata": {
  "kernelspec": {
   "display_name": "Python 3 (ipykernel)",
   "language": "python",
   "name": "python3"
  },
  "language_info": {
   "codemirror_mode": {
    "name": "ipython",
    "version": 3
   },
   "file_extension": ".py",
   "mimetype": "text/x-python",
   "name": "python",
   "nbconvert_exporter": "python",
   "pygments_lexer": "ipython3",
   "version": "3.11.4"
  }
 },
 "nbformat": 4,
 "nbformat_minor": 5
}
